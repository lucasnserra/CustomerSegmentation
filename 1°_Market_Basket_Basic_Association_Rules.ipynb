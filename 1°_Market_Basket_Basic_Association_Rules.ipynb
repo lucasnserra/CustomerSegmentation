{
  "nbformat": 4,
  "nbformat_minor": 0,
  "metadata": {
    "colab": {
      "provenance": [],
      "collapsed_sections": [],
      "authorship_tag": "ABX9TyOvt61LuG+ZMTBv/oOwde9R",
      "include_colab_link": true
    },
    "kernelspec": {
      "name": "python3",
      "display_name": "Python 3"
    },
    "language_info": {
      "name": "python"
    }
  },
  "cells": [
    {
      "cell_type": "markdown",
      "metadata": {
        "id": "view-in-github",
        "colab_type": "text"
      },
      "source": [
        "<a href=\"https://colab.research.google.com/github/lucasnserra/CustomerSegmentation/blob/main/1%C2%B0_Market_Basket_Basic_Association_Rules.ipynb\" target=\"_parent\"><img src=\"https://colab.research.google.com/assets/colab-badge.svg\" alt=\"Open In Colab\"/></a>"
      ]
    },
    {
      "cell_type": "code",
      "execution_count": 4,
      "metadata": {
        "id": "XT6o47CN4OBq"
      },
      "outputs": [],
      "source": [
        "#Importo Librerias\n",
        "import numpy as np\n",
        "import pandas as pd\n",
        "import datetime as dt\n",
        "import matplotlib.pyplot as plt\n",
        "import seaborn as sns\n",
        "from itertools import permutations"
      ]
    },
    {
      "cell_type": "code",
      "source": [
        "#Cargo dataset y convierto en lista (busqueda de antecedentes y consecuentes)\n",
        "transactions = pd.read_csv('https://raw.githubusercontent.com/lucasnserra/Market-Basket-Analysis-in-Python/main/bookstore_transactions.csv')\n",
        "transactions = transactions['Transaction'].apply(lambda t: t.split(','))\n",
        "transactions = list(transactions)\n"
      ],
      "metadata": {
        "id": "7-ICysPd6XDW"
      },
      "execution_count": 10,
      "outputs": []
    },
    {
      "cell_type": "code",
      "source": [
        "#Utilizo Permutations de Itertools para crear una lista con todos los antecedendes y consecuentes unicos .\n",
        "flattened = [i for t in transactions for i in t]\n",
        "transactions = list(set(flattened))\n",
        "rules = list(permutations(transactions,2))\n",
        "len(rules)\n"
      ],
      "metadata": {
        "colab": {
          "base_uri": "https://localhost:8080/"
        },
        "id": "KiTderGy6Y_M",
        "outputId": "d20b46cd-4975-435d-af28-e026711e1df8"
      },
      "execution_count": 17,
      "outputs": [
        {
          "output_type": "execute_result",
          "data": {
            "text/plain": [
              "342"
            ]
          },
          "metadata": {},
          "execution_count": 17
        }
      ]
    },
    {
      "cell_type": "code",
      "source": [],
      "metadata": {
        "id": "Qjhy5hqbCiIl"
      },
      "execution_count": null,
      "outputs": []
    }
  ]
}