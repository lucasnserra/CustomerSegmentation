{
  "nbformat": 4,
  "nbformat_minor": 0,
  "metadata": {
    "colab": {
      "provenance": [],
      "authorship_tag": "ABX9TyOFSSbz49yJgk4R9NZ6karF",
      "include_colab_link": true
    },
    "kernelspec": {
      "name": "python3",
      "display_name": "Python 3"
    },
    "language_info": {
      "name": "python"
    }
  },
  "cells": [
    {
      "cell_type": "markdown",
      "metadata": {
        "id": "view-in-github",
        "colab_type": "text"
      },
      "source": [
        "<a href=\"https://colab.research.google.com/github/lucasnserra/CustomerSegmentation/blob/main/1%C2%B0_Market_Basket_Basic_Association_Rules.ipynb\" target=\"_parent\"><img src=\"https://colab.research.google.com/assets/colab-badge.svg\" alt=\"Open In Colab\"/></a>"
      ]
    },
    {
      "cell_type": "code",
      "execution_count": null,
      "metadata": {
        "id": "XT6o47CN4OBq"
      },
      "outputs": [],
      "source": [
        "#Importo Librerias\n",
        "import numpy as np\n",
        "import pandas as pd\n",
        "import datetime as dt\n",
        "import matplotlib.pyplot as plt\n",
        "import seaborn as sns\n",
        "from itertools import permutations"
      ]
    },
    {
      "cell_type": "code",
      "source": [
        "#Cargo dataset y convierto en lista (busqueda de antecedentes y consecuentes)\n",
        "transactions = pd.read_csv('https://raw.githubusercontent.com/lucasnserra/Market-Basket-Analysis-in-Python/main/bookstore_transactions.csv')\n",
        "#transactions = transactions['Transaction'].apply(lambda t: t.split(','))\n",
        "#transactions = list(transactions)\n",
        "transactions['Transaction']\n"
      ],
      "metadata": {
        "id": "7-ICysPd6XDW",
        "colab": {
          "base_uri": "https://localhost:8080/"
        },
        "outputId": "63c8ba73-adc2-4af6-db81-a7b57bca8bb1"
      },
      "execution_count": null,
      "outputs": [
        {
          "output_type": "execute_result",
          "data": {
            "text/plain": [
              "History      Bookmark\n",
              "History      Bookmark\n",
              "Fiction      Bookmark\n",
              "Biography    Bookmark\n",
              "History      Bookmark\n",
              "               ...   \n",
              "Poetry        History\n",
              "Poetry        History\n",
              "Poetry        History\n",
              "Poetry        History\n",
              "Poetry        History\n",
              "Name: Transaction, Length: 1029, dtype: object"
            ]
          },
          "metadata": {},
          "execution_count": 22
        }
      ]
    },
    {
      "cell_type": "code",
      "source": [
        "#Utilizo Permutations de Itertools para crear una lista con todos los antecedendes y consecuentes unicos.\n",
        "#Estas lineas de codigo estan limitadas ya que funciona solamente con 1 antecedente y 1 consecuente. Tambien no limita o elige las mejores permutaciones \n",
        "flattened = [i for t in transactions for i in t]\n",
        "books = list(set(flattened))\n",
        "rules = list(permutations(books,2))\n",
        "#Obtengo cantidad de permutaciones distintas   \n",
        "len(rules)\n"
      ],
      "metadata": {
        "colab": {
          "base_uri": "https://localhost:8080/"
        },
        "id": "KiTderGy6Y_M",
        "outputId": "5c84437c-deb2-44ee-c44b-f033463abcd5"
      },
      "execution_count": null,
      "outputs": [
        {
          "output_type": "execute_result",
          "data": {
            "text/plain": [
              "20"
            ]
          },
          "metadata": {},
          "execution_count": 14
        }
      ]
    },
    {
      "cell_type": "code",
      "source": [
        "#Aplicacion de reglas  \n",
        "#-> Metrica (metric) = Medida de rendimiento de una regla\n",
        "#-> Poda (Pruning) = Utiliza una metrica para descargar reglas"
      ],
      "metadata": {
        "id": "Qjhy5hqbCiIl"
      },
      "execution_count": null,
      "outputs": []
    },
    {
      "cell_type": "code",
      "source": [
        "#Aplicacion de Metrica Support \n",
        "transactions2  = pd.read_csv('https://raw.githubusercontent.com/lucasnserra/Market-Basket-Analysis-in-Python/main/bookstore_transactions.csv')\n",
        "transactions2 = transactions2['Transaction'].apply(lambda t: t.split(','))\n",
        "transactions2 = list(transactions2)"
      ],
      "metadata": {
        "id": "oTzhizkCbuZh"
      },
      "execution_count": null,
      "outputs": []
    },
    {
      "cell_type": "code",
      "source": [
        "#importo la libreria necesaria para crear la metrica\n",
        "from mlxtend.preprocessing import TransactionEncoder\n",
        "#Creo el encoder y lo entreno\n",
        "encoder = TransactionEncoder().fit(transactions2)\n",
        "#Hago el OneHot (Crea una matriz de True o False si aparece el atributo en la fila)\n",
        "onehot = encoder.transform(transactions2)\n",
        "#Creo DF \n",
        "onehot = pd.DataFrame(onehot,columns=encoder.columns_)\n",
        "#Obtengo metrica de soporte calculando la media (por cada items)\n",
        "onehot.mean()\n"
      ],
      "metadata": {
        "colab": {
          "base_uri": "https://localhost:8080/",
          "height": 423
        },
        "id": "0tFpaukTCtPm",
        "outputId": "a07214cb-d25c-4109-dc4e-875fc9d80845"
      },
      "execution_count": null,
      "outputs": [
        {
          "output_type": "execute_result",
          "data": {
            "text/plain": [
              "      Biography  Bookmark  Fiction  History  Poetry\n",
              "0         False      True    False    False   False\n",
              "1         False      True    False    False   False\n",
              "2         False      True    False    False   False\n",
              "3         False      True    False    False   False\n",
              "4         False      True    False    False   False\n",
              "...         ...       ...      ...      ...     ...\n",
              "1024      False     False    False     True   False\n",
              "1025      False     False    False     True   False\n",
              "1026      False     False    False     True   False\n",
              "1027      False     False    False     True   False\n",
              "1028      False     False    False     True   False\n",
              "\n",
              "[1029 rows x 5 columns]"
            ],
            "text/html": [
              "\n",
              "  <div id=\"df-f7bfc888-e6ed-4383-b62a-0e49e8ddebb0\">\n",
              "    <div class=\"colab-df-container\">\n",
              "      <div>\n",
              "<style scoped>\n",
              "    .dataframe tbody tr th:only-of-type {\n",
              "        vertical-align: middle;\n",
              "    }\n",
              "\n",
              "    .dataframe tbody tr th {\n",
              "        vertical-align: top;\n",
              "    }\n",
              "\n",
              "    .dataframe thead th {\n",
              "        text-align: right;\n",
              "    }\n",
              "</style>\n",
              "<table border=\"1\" class=\"dataframe\">\n",
              "  <thead>\n",
              "    <tr style=\"text-align: right;\">\n",
              "      <th></th>\n",
              "      <th>Biography</th>\n",
              "      <th>Bookmark</th>\n",
              "      <th>Fiction</th>\n",
              "      <th>History</th>\n",
              "      <th>Poetry</th>\n",
              "    </tr>\n",
              "  </thead>\n",
              "  <tbody>\n",
              "    <tr>\n",
              "      <th>0</th>\n",
              "      <td>False</td>\n",
              "      <td>True</td>\n",
              "      <td>False</td>\n",
              "      <td>False</td>\n",
              "      <td>False</td>\n",
              "    </tr>\n",
              "    <tr>\n",
              "      <th>1</th>\n",
              "      <td>False</td>\n",
              "      <td>True</td>\n",
              "      <td>False</td>\n",
              "      <td>False</td>\n",
              "      <td>False</td>\n",
              "    </tr>\n",
              "    <tr>\n",
              "      <th>2</th>\n",
              "      <td>False</td>\n",
              "      <td>True</td>\n",
              "      <td>False</td>\n",
              "      <td>False</td>\n",
              "      <td>False</td>\n",
              "    </tr>\n",
              "    <tr>\n",
              "      <th>3</th>\n",
              "      <td>False</td>\n",
              "      <td>True</td>\n",
              "      <td>False</td>\n",
              "      <td>False</td>\n",
              "      <td>False</td>\n",
              "    </tr>\n",
              "    <tr>\n",
              "      <th>4</th>\n",
              "      <td>False</td>\n",
              "      <td>True</td>\n",
              "      <td>False</td>\n",
              "      <td>False</td>\n",
              "      <td>False</td>\n",
              "    </tr>\n",
              "    <tr>\n",
              "      <th>...</th>\n",
              "      <td>...</td>\n",
              "      <td>...</td>\n",
              "      <td>...</td>\n",
              "      <td>...</td>\n",
              "      <td>...</td>\n",
              "    </tr>\n",
              "    <tr>\n",
              "      <th>1024</th>\n",
              "      <td>False</td>\n",
              "      <td>False</td>\n",
              "      <td>False</td>\n",
              "      <td>True</td>\n",
              "      <td>False</td>\n",
              "    </tr>\n",
              "    <tr>\n",
              "      <th>1025</th>\n",
              "      <td>False</td>\n",
              "      <td>False</td>\n",
              "      <td>False</td>\n",
              "      <td>True</td>\n",
              "      <td>False</td>\n",
              "    </tr>\n",
              "    <tr>\n",
              "      <th>1026</th>\n",
              "      <td>False</td>\n",
              "      <td>False</td>\n",
              "      <td>False</td>\n",
              "      <td>True</td>\n",
              "      <td>False</td>\n",
              "    </tr>\n",
              "    <tr>\n",
              "      <th>1027</th>\n",
              "      <td>False</td>\n",
              "      <td>False</td>\n",
              "      <td>False</td>\n",
              "      <td>True</td>\n",
              "      <td>False</td>\n",
              "    </tr>\n",
              "    <tr>\n",
              "      <th>1028</th>\n",
              "      <td>False</td>\n",
              "      <td>False</td>\n",
              "      <td>False</td>\n",
              "      <td>True</td>\n",
              "      <td>False</td>\n",
              "    </tr>\n",
              "  </tbody>\n",
              "</table>\n",
              "<p>1029 rows × 5 columns</p>\n",
              "</div>\n",
              "      <button class=\"colab-df-convert\" onclick=\"convertToInteractive('df-f7bfc888-e6ed-4383-b62a-0e49e8ddebb0')\"\n",
              "              title=\"Convert this dataframe to an interactive table.\"\n",
              "              style=\"display:none;\">\n",
              "        \n",
              "  <svg xmlns=\"http://www.w3.org/2000/svg\" height=\"24px\"viewBox=\"0 0 24 24\"\n",
              "       width=\"24px\">\n",
              "    <path d=\"M0 0h24v24H0V0z\" fill=\"none\"/>\n",
              "    <path d=\"M18.56 5.44l.94 2.06.94-2.06 2.06-.94-2.06-.94-.94-2.06-.94 2.06-2.06.94zm-11 1L8.5 8.5l.94-2.06 2.06-.94-2.06-.94L8.5 2.5l-.94 2.06-2.06.94zm10 10l.94 2.06.94-2.06 2.06-.94-2.06-.94-.94-2.06-.94 2.06-2.06.94z\"/><path d=\"M17.41 7.96l-1.37-1.37c-.4-.4-.92-.59-1.43-.59-.52 0-1.04.2-1.43.59L10.3 9.45l-7.72 7.72c-.78.78-.78 2.05 0 2.83L4 21.41c.39.39.9.59 1.41.59.51 0 1.02-.2 1.41-.59l7.78-7.78 2.81-2.81c.8-.78.8-2.07 0-2.86zM5.41 20L4 18.59l7.72-7.72 1.47 1.35L5.41 20z\"/>\n",
              "  </svg>\n",
              "      </button>\n",
              "      \n",
              "  <style>\n",
              "    .colab-df-container {\n",
              "      display:flex;\n",
              "      flex-wrap:wrap;\n",
              "      gap: 12px;\n",
              "    }\n",
              "\n",
              "    .colab-df-convert {\n",
              "      background-color: #E8F0FE;\n",
              "      border: none;\n",
              "      border-radius: 50%;\n",
              "      cursor: pointer;\n",
              "      display: none;\n",
              "      fill: #1967D2;\n",
              "      height: 32px;\n",
              "      padding: 0 0 0 0;\n",
              "      width: 32px;\n",
              "    }\n",
              "\n",
              "    .colab-df-convert:hover {\n",
              "      background-color: #E2EBFA;\n",
              "      box-shadow: 0px 1px 2px rgba(60, 64, 67, 0.3), 0px 1px 3px 1px rgba(60, 64, 67, 0.15);\n",
              "      fill: #174EA6;\n",
              "    }\n",
              "\n",
              "    [theme=dark] .colab-df-convert {\n",
              "      background-color: #3B4455;\n",
              "      fill: #D2E3FC;\n",
              "    }\n",
              "\n",
              "    [theme=dark] .colab-df-convert:hover {\n",
              "      background-color: #434B5C;\n",
              "      box-shadow: 0px 1px 3px 1px rgba(0, 0, 0, 0.15);\n",
              "      filter: drop-shadow(0px 1px 2px rgba(0, 0, 0, 0.3));\n",
              "      fill: #FFFFFF;\n",
              "    }\n",
              "  </style>\n",
              "\n",
              "      <script>\n",
              "        const buttonEl =\n",
              "          document.querySelector('#df-f7bfc888-e6ed-4383-b62a-0e49e8ddebb0 button.colab-df-convert');\n",
              "        buttonEl.style.display =\n",
              "          google.colab.kernel.accessAllowed ? 'block' : 'none';\n",
              "\n",
              "        async function convertToInteractive(key) {\n",
              "          const element = document.querySelector('#df-f7bfc888-e6ed-4383-b62a-0e49e8ddebb0');\n",
              "          const dataTable =\n",
              "            await google.colab.kernel.invokeFunction('convertToInteractive',\n",
              "                                                     [key], {});\n",
              "          if (!dataTable) return;\n",
              "\n",
              "          const docLinkHtml = 'Like what you see? Visit the ' +\n",
              "            '<a target=\"_blank\" href=https://colab.research.google.com/notebooks/data_table.ipynb>data table notebook</a>'\n",
              "            + ' to learn more about interactive tables.';\n",
              "          element.innerHTML = '';\n",
              "          dataTable['output_type'] = 'display_data';\n",
              "          await google.colab.output.renderOutput(dataTable, element);\n",
              "          const docLink = document.createElement('div');\n",
              "          docLink.innerHTML = docLinkHtml;\n",
              "          element.appendChild(docLink);\n",
              "        }\n",
              "      </script>\n",
              "    </div>\n",
              "  </div>\n",
              "  "
            ]
          },
          "metadata": {},
          "execution_count": 23
        }
      ]
    },
    {
      "cell_type": "code",
      "source": [
        "#Obtengo metrica de soporte por multiples items\n",
        "onehot['Poetry+History'] = np.logical_and(onehot['Poetry'],onehot['History'])\n",
        "onehot.mean() "
      ],
      "metadata": {
        "colab": {
          "base_uri": "https://localhost:8080/"
        },
        "id": "fzoFluBdFwE_",
        "outputId": "635c439b-4bac-4cca-e53e-9b0a774e2a87"
      },
      "execution_count": null,
      "outputs": [
        {
          "output_type": "execute_result",
          "data": {
            "text/plain": [
              "Biography         0.404276\n",
              "Bookmark          0.095238\n",
              "Fiction           0.094266\n",
              "History           0.223518\n",
              "Poetry            0.182702\n",
              "Poetry+History    0.000000\n",
              "dtype: float64"
            ]
          },
          "metadata": {},
          "execution_count": 18
        }
      ]
    },
    {
      "cell_type": "markdown",
      "source": [
        "Conclusiones: \n",
        "La metrica de Support puede ser sesgada si se trata de manera aislada ya que hay ciertos productos como la leche y el pan que son comunes en las compras y que estos se compren juntos no demuestra un comportamiento por el analisis de X-Sell. Por lo cual se debe sustentar con otras 2 metricas. \n",
        "-Metrica de confianza(Confidence Metric).\n",
        "-Metrica de Elavacion(Lift Metric).\n"
      ],
      "metadata": {
        "id": "pzi69Lncbi5N"
      }
    },
    {
      "cell_type": "code",
      "source": [],
      "metadata": {
        "id": "7upSMwOjIKle"
      },
      "execution_count": null,
      "outputs": []
    }
  ]
}